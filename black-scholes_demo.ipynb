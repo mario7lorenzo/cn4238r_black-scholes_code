{
 "cells": [
  {
   "cell_type": "code",
   "execution_count": 2,
   "id": "8fcded71",
   "metadata": {},
   "outputs": [],
   "source": [
    "import pandas_datareader.data as web\n",
    "import pandas_datareader as pdr\n",
    "import pandas as pd\n",
    "import numpy as np\n",
    "import datetime as dt\n",
    "import matplotlib.pyplot as plt\n",
    "import seaborn as sns\n",
    "from BlackScholesModel import BlackScholesModel"
   ]
  },
  {
   "cell_type": "code",
   "execution_count": 3,
   "id": "4a5d674f",
   "metadata": {},
   "outputs": [],
   "source": [
    "# Tunable parameters\n",
    "startDate = dt.datetime(2020,10,9)\n",
    "endDate = dt.datetime(2021,10,9)\n",
    "tickerCode = 'TSLA'\n",
    "source = 'yahoo'"
   ]
  },
  {
   "cell_type": "code",
   "execution_count": 4,
   "id": "ebeebe4e",
   "metadata": {},
   "outputs": [
    {
     "name": "stdout",
     "output_type": "stream",
     "text": [
      "                  High         Low        Open       Close    Volume  \\\n",
      "Date                                                                   \n",
      "2020-10-08  439.000000  425.299988  438.440002  425.920013  40421100   \n",
      "2020-10-09  434.589996  426.459991  430.130005  434.000000  28925700   \n",
      "2020-10-12  448.739990  438.579987  442.000000  442.299988  38791100   \n",
      "2020-10-13  448.890015  436.600006  443.350006  446.649994  34463700   \n",
      "2020-10-14  465.899994  447.350006  449.779999  461.299988  47879700   \n",
      "...                ...         ...         ...         ...       ...   \n",
      "2021-10-04  806.969971  776.119995  796.500000  781.530029  30483300   \n",
      "2021-10-05  797.309998  774.200012  784.799988  780.590027  18432600   \n",
      "2021-10-06  786.659973  773.219971  776.200012  782.750000  14632800   \n",
      "2021-10-07  805.000000  783.380005  785.460022  793.609985  19195800   \n",
      "2021-10-08  796.380005  780.909973  796.210022  785.489990  16711100   \n",
      "\n",
      "             Adj Close  \n",
      "Date                    \n",
      "2020-10-08  425.920013  \n",
      "2020-10-09  434.000000  \n",
      "2020-10-12  442.299988  \n",
      "2020-10-13  446.649994  \n",
      "2020-10-14  461.299988  \n",
      "...                ...  \n",
      "2021-10-04  781.530029  \n",
      "2021-10-05  780.590027  \n",
      "2021-10-06  782.750000  \n",
      "2021-10-07  793.609985  \n",
      "2021-10-08  785.489990  \n",
      "\n",
      "[253 rows x 6 columns]\n"
     ]
    }
   ],
   "source": [
    "df = web.DataReader(tickerCode, source, startDate, endDate)\n",
    "df = df.sort_values(by='Date')\n",
    "df = df.dropna()\n",
    "print(df)"
   ]
  },
  {
   "cell_type": "code",
   "execution_count": 5,
   "id": "f6e7a175",
   "metadata": {},
   "outputs": [
    {
     "name": "stdout",
     "output_type": "stream",
     "text": [
      "                  High         Low        Open       Close    Volume  \\\n",
      "Date                                                                   \n",
      "2020-10-08  439.000000  425.299988  438.440002  425.920013  40421100   \n",
      "2020-10-09  434.589996  426.459991  430.130005  434.000000  28925700   \n",
      "2020-10-12  448.739990  438.579987  442.000000  442.299988  38791100   \n",
      "2020-10-13  448.890015  436.600006  443.350006  446.649994  34463700   \n",
      "2020-10-14  465.899994  447.350006  449.779999  461.299988  47879700   \n",
      "...                ...         ...         ...         ...       ...   \n",
      "2021-10-04  806.969971  776.119995  796.500000  781.530029  30483300   \n",
      "2021-10-05  797.309998  774.200012  784.799988  780.590027  18432600   \n",
      "2021-10-06  786.659973  773.219971  776.200012  782.750000  14632800   \n",
      "2021-10-07  805.000000  783.380005  785.460022  793.609985  19195800   \n",
      "2021-10-08  796.380005  780.909973  796.210022  785.489990  16711100   \n",
      "\n",
      "             Adj Close        Prev    Change  \n",
      "Date                                          \n",
      "2020-10-08  425.920013         NaN       NaN  \n",
      "2020-10-09  434.000000  425.920013  0.018971  \n",
      "2020-10-12  442.299988  434.000000  0.019124  \n",
      "2020-10-13  446.649994  442.299988  0.009835  \n",
      "2020-10-14  461.299988  446.649994  0.032800  \n",
      "...                ...         ...       ...  \n",
      "2021-10-04  781.530029  775.219971  0.008140  \n",
      "2021-10-05  780.590027  781.530029 -0.001203  \n",
      "2021-10-06  782.750000  780.590027  0.002767  \n",
      "2021-10-07  793.609985  782.750000  0.013874  \n",
      "2021-10-08  785.489990  793.609985 -0.010232  \n",
      "\n",
      "[253 rows x 8 columns]\n"
     ]
    }
   ],
   "source": [
    "df = df.assign(Prev = df.Close.shift(1))\n",
    "df['Change'] = ((df.Close - df.Prev)/df.Prev)\n",
    "print(df)"
   ]
  },
  {
   "cell_type": "code",
   "execution_count": 6,
   "id": "640ae5a9",
   "metadata": {},
   "outputs": [],
   "source": [
    "# Tunable Parameters for the Black-Scholes Model here.\n",
    "# Calculate the volatility\n",
    "nTradingDays = len(df)\n",
    "sigma = np.sqrt(nTradingDays) * df.Change.std()\n",
    "\n",
    "# The risk-free interest rate used is the 10-Years U.S. Treasury Yield at 8th Oct 2021 which is 1.613%\n",
    "# Obtained from: https://www.marketwatch.com/investing/bond/tmubmusd10y?countrycode=bx\n",
    "# Change for future use\n",
    "r = 0.01613\n",
    "\n",
    "# The spot price used is the current stock's closing price\n",
    "# Find the value at finance.yahoo.com.\n",
    "# Change for future use\n",
    "s = 785.49\n",
    "\n",
    "# The calculation for the time to maturity parameter.\n",
    "# Change as desired for future use.\n",
    "currDatetime = dt.datetime.now()\n",
    "day = 5\n",
    "month = 11\n",
    "year = 2021\n",
    "maturityDatetime = dt.datetime(year,month,day)\n",
    "timeToMaturity = np.busday_count(currDatetime.date(), maturityDatetime.date())\n",
    "tradingDaysPerYear = 252 # normally, sometimes 253 but resulting in negligible difference\n",
    "T = timeToMaturity/tradingDaysPerYear"
   ]
  },
  {
   "cell_type": "code",
   "execution_count": 7,
   "id": "0ffe4748",
   "metadata": {
    "scrolled": true
   },
   "outputs": [
    {
     "name": "stdout",
     "output_type": "stream",
     "text": [
      "     Unnamed: 0       contractSymbol  strike currency  lastPrice  change  \\\n",
      "0             0  TSLA211105C00250000     250      USD     532.20    0.00   \n",
      "1             1  TSLA211105C00390000     390      USD     399.05    0.00   \n",
      "2             2  TSLA211105C00430000     430      USD     362.05    0.00   \n",
      "3             3  TSLA211105C00480000     480      USD     325.90    0.00   \n",
      "4             4  TSLA211105C00500000     500      USD     288.00    0.00   \n",
      "..          ...                  ...     ...      ...        ...     ...   \n",
      "96           96  TSLA211105C01350000    1350      USD       0.21   -0.04   \n",
      "97           97  TSLA211105C01375000    1375      USD       0.11    0.00   \n",
      "98           98  TSLA211105C01400000    1400      USD       0.14    0.04   \n",
      "99           99  TSLA211105C01425000    1425      USD       0.06    0.00   \n",
      "100         100  TSLA211105C01450000    1450      USD       0.04   -0.09   \n",
      "\n",
      "     percentChange  openInterest     bid     ask contractSize  expiration  \\\n",
      "0         0.000000             1  533.35  538.05      REGULAR  1636070400   \n",
      "1         0.000000             3  394.15  398.85      REGULAR  1636070400   \n",
      "2         0.000000             6  354.60  359.35      REGULAR  1636070400   \n",
      "3         0.000000             1  305.50  310.35      REGULAR  1636070400   \n",
      "4         0.000000             8  286.05  290.90      REGULAR  1636070400   \n",
      "..             ...           ...     ...     ...          ...         ...   \n",
      "96      -16.000002             9    0.01    0.10      REGULAR  1636070400   \n",
      "97        0.000000            17    0.04    0.40      REGULAR  1636070400   \n",
      "98       39.999996           129    0.00    0.25      REGULAR  1636070400   \n",
      "99        0.000000           104    0.01    0.31      REGULAR  1636070400   \n",
      "100     -69.230774            39    0.01    0.07      REGULAR  1636070400   \n",
      "\n",
      "     lastTradeDate  impliedVolatility  inTheMoney  volume  \n",
      "0       1633012384           1.541018        True     NaN  \n",
      "1       1633025141           1.176274        True     NaN  \n",
      "2       1633360587           1.088628        True     NaN  \n",
      "3       1633633325           0.991699        True     1.0  \n",
      "4       1633545437           0.956665        True     1.0  \n",
      "..             ...                ...         ...     ...  \n",
      "96      1633715848           0.638675       False     9.0  \n",
      "97      1633614841           0.746096       False     7.0  \n",
      "98      1633704658           0.726565       False     8.0  \n",
      "99      1633633709           0.763674       False   100.0  \n",
      "100     1633722070           0.695316       False    12.0  \n",
      "\n",
      "[101 rows x 16 columns]\n"
     ]
    }
   ],
   "source": [
    "# Open the options csv file obtained from options_price_retriever.py\n",
    "# For the example, we use TSLA call options with expiration date on 5th Nov 2021\n",
    "# Change for future use.\n",
    "\n",
    "optionsFilename = \"TSLA-20211105-calls.csv\"\n",
    "optionsdf = pd.read_csv(optionsFilename)\n",
    "print(optionsdf)"
   ]
  },
  {
   "cell_type": "code",
   "execution_count": 8,
   "id": "87fca54f",
   "metadata": {},
   "outputs": [
    {
     "name": "stdout",
     "output_type": "stream",
     "text": [
      "          contractSymbol  strike currency  lastPrice  change  percentChange  \\\n",
      "0    TSLA211105C00250000     250      USD     532.20    0.00       0.000000   \n",
      "1    TSLA211105C00390000     390      USD     399.05    0.00       0.000000   \n",
      "2    TSLA211105C00430000     430      USD     362.05    0.00       0.000000   \n",
      "3    TSLA211105C00480000     480      USD     325.90    0.00       0.000000   \n",
      "4    TSLA211105C00500000     500      USD     288.00    0.00       0.000000   \n",
      "..                   ...     ...      ...        ...     ...            ...   \n",
      "96   TSLA211105C01350000    1350      USD       0.21   -0.04     -16.000002   \n",
      "97   TSLA211105C01375000    1375      USD       0.11    0.00       0.000000   \n",
      "98   TSLA211105C01400000    1400      USD       0.14    0.04      39.999996   \n",
      "99   TSLA211105C01425000    1425      USD       0.06    0.00       0.000000   \n",
      "100  TSLA211105C01450000    1450      USD       0.04   -0.09     -69.230774   \n",
      "\n",
      "     openInterest     bid     ask  \n",
      "0               1  533.35  538.05  \n",
      "1               3  394.15  398.85  \n",
      "2               6  354.60  359.35  \n",
      "3               1  305.50  310.35  \n",
      "4               8  286.05  290.90  \n",
      "..            ...     ...     ...  \n",
      "96              9    0.01    0.10  \n",
      "97             17    0.04    0.40  \n",
      "98            129    0.00    0.25  \n",
      "99            104    0.01    0.31  \n",
      "100            39    0.01    0.07  \n",
      "\n",
      "[101 rows x 9 columns]\n"
     ]
    }
   ],
   "source": [
    "# filter relevant columns for clarity\n",
    "optionsdf = optionsdf.loc[:,\"contractSymbol\":\"ask\"]\n",
    "print(optionsdf)"
   ]
  },
  {
   "cell_type": "code",
   "execution_count": 9,
   "id": "031d1712",
   "metadata": {},
   "outputs": [],
   "source": [
    "strikePrices = optionsdf.strike.tolist()\n",
    "callPrices = [BlackScholesModel(s,K,T,r,sigma).callPrice() for K in strikePrices]"
   ]
  },
  {
   "cell_type": "code",
   "execution_count": 10,
   "id": "012b418e",
   "metadata": {},
   "outputs": [
    {
     "name": "stdout",
     "output_type": "stream",
     "text": [
      "          contractSymbol  strike currency  lastPrice  change  percentChange  \\\n",
      "0    TSLA211105C00250000     250      USD     532.20    0.00       0.000000   \n",
      "1    TSLA211105C00390000     390      USD     399.05    0.00       0.000000   \n",
      "2    TSLA211105C00430000     430      USD     362.05    0.00       0.000000   \n",
      "3    TSLA211105C00480000     480      USD     325.90    0.00       0.000000   \n",
      "4    TSLA211105C00500000     500      USD     288.00    0.00       0.000000   \n",
      "..                   ...     ...      ...        ...     ...            ...   \n",
      "96   TSLA211105C01350000    1350      USD       0.21   -0.04     -16.000002   \n",
      "97   TSLA211105C01375000    1375      USD       0.11    0.00       0.000000   \n",
      "98   TSLA211105C01400000    1400      USD       0.14    0.04      39.999996   \n",
      "99   TSLA211105C01425000    1425      USD       0.06    0.00       0.000000   \n",
      "100  TSLA211105C01450000    1450      USD       0.04   -0.09     -69.230774   \n",
      "\n",
      "     openInterest     bid     ask  blackScholesPrice  \n",
      "0               1  533.35  538.05         535.793853  \n",
      "1               3  394.15  398.85         395.964025  \n",
      "2               6  354.60  359.35         356.012997  \n",
      "3               1  305.50  310.35         306.082429  \n",
      "4               8  286.05  290.90         286.123699  \n",
      "..            ...     ...     ...                ...  \n",
      "96              9    0.01    0.10           0.004261  \n",
      "97             17    0.04    0.40           0.002546  \n",
      "98            129    0.00    0.25           0.001514  \n",
      "99            104    0.01    0.31           0.000897  \n",
      "100            39    0.01    0.07           0.000529  \n",
      "\n",
      "[101 rows x 10 columns]\n"
     ]
    }
   ],
   "source": [
    "optionsdf['blackScholesPrice'] = callPrices\n",
    "print(optionsdf)"
   ]
  },
  {
   "cell_type": "code",
   "execution_count": 11,
   "id": "76d03726",
   "metadata": {},
   "outputs": [
    {
     "name": "stdout",
     "output_type": "stream",
     "text": [
      "count    50.000000\n",
      "mean     -2.224054\n",
      "std       5.971571\n",
      "min      -7.461914\n",
      "25%      -6.535204\n",
      "50%      -4.028684\n",
      "75%      -0.906146\n",
      "max      16.229582\n",
      "Name: difference, dtype: float64\n"
     ]
    }
   ],
   "source": [
    "# Compare with the Ask price\n",
    "optionsdf['difference'] = ((optionsdf.blackScholesPrice - optionsdf.ask)/(optionsdf.blackScholesPrice))*100\n",
    "print(optionsdf.iloc[:50].difference.describe())"
   ]
  },
  {
   "cell_type": "code",
   "execution_count": 12,
   "id": "e364ea05",
   "metadata": {},
   "outputs": [
    {
     "name": "stderr",
     "output_type": "stream",
     "text": [
      "/Users/mariolorenzo/opt/anaconda3/lib/python3.8/site-packages/seaborn/distributions.py:2557: FutureWarning: `distplot` is a deprecated function and will be removed in a future version. Please adapt your code to use either `displot` (a figure-level function with similar flexibility) or `histplot` (an axes-level function for histograms).\n",
      "  warnings.warn(msg, FutureWarning)\n"
     ]
    },
    {
     "data": {
      "image/png": "[encoded data removed]",
      "text/plain": [
       "<Figure size 432x288 with 1 Axes>"
      ]
     },
     "metadata": {
      "needs_background": "light"
     },
     "output_type": "display_data"
    }
   ],
   "source": [
    "ax = sns.distplot(optionsdf.iloc[:50].difference)"
   ]
  },
  {
   "cell_type": "code",
   "execution_count": 15,
   "id": "9a59a741",
   "metadata": {},
   "outputs": [
    {
     "data": {
      "text/plain": [
       "Text(0, 0.5, 'Density')"
      ]
     },
     "execution_count": 15,
     "metadata": {},
     "output_type": "execute_result"
    },
    {
     "data": {
      "image/png": "[encoded data removed]",
      "text/plain": [
       "<Figure size 432x288 with 1 Axes>"
      ]
     },
     "metadata": {
      "needs_background": "light"
     },
     "output_type": "display_data"
    }
   ],
   "source": [
    "# Examine the distribution\n",
    "\n",
    "std = df.Change.std()\n",
    "samples = np.random.normal(df.Change.mean() ,std, size=1000000)\n",
    "fig, ax = plt.subplots()\n",
    "ax = sns.kdeplot(data=df.Change.dropna(), label='Empirical', ax=ax,shade=True)\n",
    "ax = sns.kdeplot(data=samples, label='Sampling', ax=ax,shade=True)\n",
    "plt.legend()\n",
    "plt.xlabel('Change in Stock Price')\n",
    "plt.ylabel('Density')"
   ]
  },
  {
   "cell_type": "code",
   "execution_count": null,
   "id": "d6911b16",
   "metadata": {},
   "outputs": [],
   "source": []
  }
 ],
 "metadata": {
  "kernelspec": {
   "display_name": "Python 3",
   "language": "python",
   "name": "python3"
  },
  "language_info": {
   "codemirror_mode": {
    "name": "ipython",
    "version": 3
   },
   "file_extension": ".py",
   "mimetype": "text/x-python",
   "name": "python",
   "nbconvert_exporter": "python",
   "pygments_lexer": "ipython3",
   "version": "3.8.8"
  }
 },
 "nbformat": 4,
 "nbformat_minor": 5
}
