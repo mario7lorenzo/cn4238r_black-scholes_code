{
 "cells": [
  {
   "cell_type": "code",
   "execution_count": 1,
   "id": "4b0ed30e",
   "metadata": {},
   "outputs": [],
   "source": [
    "import datetime as dt\n",
    "import requests\n",
    "import pandas as pd\n",
    "import json\n",
    "from datetime import timezone"
   ]
  },
  {
   "cell_type": "code",
   "execution_count": 2,
   "id": "61183905",
   "metadata": {},
   "outputs": [],
   "source": [
    "tickerCode = 'AAPL'\n",
    "url = \"https://yfapi.net/v7/finance/options/\" + tickerCode\n",
    "day = 5\n",
    "month = 11\n",
    "year = 2021\n",
    "maturityDatetime = dt.datetime(year,month,day)\n",
    "maturityDatetime = maturityDatetime.replace(tzinfo=timezone.utc)\n",
    "maturityUnixTimestamp = int(dt.datetime.timestamp(maturityDatetime))"
   ]
  },
  {
   "cell_type": "code",
   "execution_count": 3,
   "id": "1cd3972b",
   "metadata": {},
   "outputs": [],
   "source": [
    "with open(\"api_key.txt\") as f:\n",
    "    api_key = f.readline()\n",
    "f.close()"
   ]
  },
  {
   "cell_type": "code",
   "execution_count": 4,
   "id": "4e02b84a",
   "metadata": {},
   "outputs": [],
   "source": [
    "querystring = {\"date\": maturityUnixTimestamp}\n",
    "\n",
    "headers = {\n",
    "    'x-api-key': api_key\n",
    "    }\n",
    "\n",
    "response = requests.request(\"GET\", url, headers=headers, params=querystring)"
   ]
  },
  {
   "cell_type": "code",
   "execution_count": 5,
   "id": "f51afdd0",
   "metadata": {},
   "outputs": [],
   "source": [
    "jsonResponse = json.loads(response.text)"
   ]
  },
  {
   "cell_type": "code",
   "execution_count": 6,
   "id": "453917ab",
   "metadata": {},
   "outputs": [],
   "source": [
    "calls = jsonResponse[\"optionChain\"][\"result\"][0][\"options\"][0][\"calls\"]\n",
    "puts = jsonResponse[\"optionChain\"][\"result\"][0][\"options\"][0][\"puts\"]"
   ]
  },
  {
   "cell_type": "code",
   "execution_count": 7,
   "id": "91136c90",
   "metadata": {},
   "outputs": [],
   "source": [
    "callsdf = pd.read_json(json.dumps(calls))\n",
    "putsdf = pd.read_json(json.dumps(puts))"
   ]
  },
  {
   "cell_type": "code",
   "execution_count": 8,
   "id": "d0cfe27e",
   "metadata": {},
   "outputs": [],
   "source": [
    "callsdf.to_csv(tickerCode+\"-\"+maturityDatetime.strftime(\"%Y%m%d\")+\"-calls.csv\")\n",
    "putsdf.to_csv(tickerCode+\"-\"+maturityDatetime.strftime(\"%Y%m%d\")+\"-puts.csv\")"
   ]
  }
 ],
 "metadata": {
  "kernelspec": {
   "display_name": "Python 3",
   "language": "python",
   "name": "python3"
  },
  "language_info": {
   "codemirror_mode": {
    "name": "ipython",
    "version": 3
   },
   "file_extension": ".py",
   "mimetype": "text/x-python",
   "name": "python",
   "nbconvert_exporter": "python",
   "pygments_lexer": "ipython3",
   "version": "3.8.8"
  }
 },
 "nbformat": 4,
 "nbformat_minor": 5
}
